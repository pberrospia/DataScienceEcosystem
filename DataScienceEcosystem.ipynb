{
 "cells": [
  {
   "cell_type": "markdown",
   "id": "0d847ab2",
   "metadata": {},
   "source": [
    "# Data Science Tools and Ecosystem"
   ]
  },
  {
   "cell_type": "markdown",
   "id": "2fd03753",
   "metadata": {},
   "source": [
    "In this notebook, Data Science Toools and Ecosystem are summarized."
   ]
  },
  {
   "cell_type": "markdown",
   "id": "18a55316",
   "metadata": {},
   "source": [
    "**Objectives:**"
   ]
  },
  {
   "cell_type": "markdown",
   "id": "3295ed55",
   "metadata": {},
   "source": [
    "- Create a markdown cells to list data\n",
    "- Create a markdown cell with a table\n",
    "- Create a code cell to evaluate arithmetic expressions\n",
    "- Share notebooks through GitHub"
   ]
  },
  {
   "cell_type": "markdown",
   "id": "80e21163",
   "metadata": {},
   "source": [
    "Some of the popular languages that Data Science use are:"
   ]
  },
  {
   "cell_type": "markdown",
   "id": "f30fdc3a",
   "metadata": {},
   "source": [
    "1. Phyton \n",
    "3. R\n",
    "5. SQL"
   ]
  },
  {
   "cell_type": "markdown",
   "id": "7ba40922",
   "metadata": {},
   "source": [
    "Some of the commonly used libraries used by Data Scientists include:"
   ]
  },
  {
   "cell_type": "markdown",
   "id": "17f3e36f",
   "metadata": {},
   "source": [
    "1. TensorFlow.\n",
    "3. NumPy.\n",
    "5. SciPy.\n",
    "7. Pandas.\n",
    "9. Matplotlib.\n",
    "11. Keras.\n",
    "13. SciKit-Learn.\n",
    "15. PyTorch"
   ]
  },
  {
   "cell_type": "markdown",
   "id": "ba99f570",
   "metadata": {},
   "source": [
    "|Data Science Tools|\n",
    ":---\n",
    "Jupyter Notebook\n",
    "Google Colab\n",
    "Visual Studio"
   ]
  },
  {
   "cell_type": "markdown",
   "id": "cdd7ff9a",
   "metadata": {},
   "source": [
    "### Below are a few examples of evaluating arithmetic expressions in Phyton"
   ]
  },
  {
   "cell_type": "code",
   "execution_count": 12,
   "id": "c3cdbd4a",
   "metadata": {},
   "outputs": [],
   "source": [
    "# This a simple arithmetic expression to multiply then add integers"
   ]
  },
  {
   "cell_type": "code",
   "execution_count": 13,
   "id": "59021444",
   "metadata": {},
   "outputs": [
    {
     "data": {
      "text/plain": [
       "17"
      ]
     },
     "execution_count": 13,
     "metadata": {},
     "output_type": "execute_result"
    }
   ],
   "source": [
    "(3*4)+5"
   ]
  },
  {
   "cell_type": "code",
   "execution_count": 14,
   "id": "f6a267f0",
   "metadata": {},
   "outputs": [],
   "source": [
    "# This will convert 200 minutes to hours by dividing by 60"
   ]
  },
  {
   "cell_type": "code",
   "execution_count": 15,
   "id": "aab7a7cc",
   "metadata": {},
   "outputs": [
    {
     "data": {
      "text/plain": [
       "3.3333333333333335"
      ]
     },
     "execution_count": 15,
     "metadata": {},
     "output_type": "execute_result"
    }
   ],
   "source": [
    "200/60"
   ]
  },
  {
   "cell_type": "markdown",
   "id": "0efd759e",
   "metadata": {},
   "source": [
    "## Author"
   ]
  },
  {
   "cell_type": "markdown",
   "id": "81195dfa",
   "metadata": {},
   "source": [
    "Percy Berrospi"
   ]
  }
 ],
 "metadata": {
  "kernelspec": {
   "display_name": "Python 3 (ipykernel)",
   "language": "python",
   "name": "python3"
  },
  "language_info": {
   "codemirror_mode": {
    "name": "ipython",
    "version": 3
   },
   "file_extension": ".py",
   "mimetype": "text/x-python",
   "name": "python",
   "nbconvert_exporter": "python",
   "pygments_lexer": "ipython3",
   "version": "3.10.9"
  }
 },
 "nbformat": 4,
 "nbformat_minor": 5
}
